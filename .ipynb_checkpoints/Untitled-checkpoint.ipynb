{
 "cells": [
  {
   "cell_type": "code",
   "execution_count": 1,
   "id": "fb7ed7a2",
   "metadata": {},
   "outputs": [],
   "source": [
    "import pandas as pd"
   ]
  },
  {
   "cell_type": "code",
   "execution_count": 3,
   "id": "183d5422",
   "metadata": {},
   "outputs": [],
   "source": [
    "import numpy as np\n",
    "from scipy.stats import binom"
   ]
  },
  {
   "cell_type": "code",
   "execution_count": 30,
   "id": "e83bd1a8",
   "metadata": {},
   "outputs": [],
   "source": [
    "ncs = 10\n",
    "p=0.55\n",
    "s=0.1"
   ]
  },
  {
   "cell_type": "code",
   "execution_count": 31,
   "id": "7a6dcaf8",
   "metadata": {},
   "outputs": [],
   "source": [
    "rv = binom(ncs,p)"
   ]
  },
  {
   "cell_type": "code",
   "execution_count": 32,
   "id": "4b5911d6",
   "metadata": {},
   "outputs": [
    {
     "name": "stdout",
     "output_type": "stream",
     "text": [
      "-9.0 0.0003405062891601559\n",
      "-8.8 0.004161743534179681\n",
      "-8.6 0.022889589437988224\n",
      "-8.4 0.07460310631640628\n",
      "-8.2 0.15956775517675784\n",
      "-8.0 0.23403270759257822\n",
      "-7.8 0.23836664662207052\n",
      "-7.6 0.16647829287890628\n",
      "-7.4 0.0763025509028321\n",
      "-7.2 0.020724149627929695\n",
      "-7.0 0.0025329516211914085\n"
     ]
    }
   ],
   "source": [
    "for cur_x in range(ncs+1):\n",
    "    cur_prob = rv.pmf(cur_x)\n",
    "    print(1+s*(cur_x*2-ncs), cur_prob)"
   ]
  },
  {
   "cell_type": "code",
   "execution_count": null,
   "id": "2d1fcc39",
   "metadata": {},
   "outputs": [],
   "source": []
  }
 ],
 "metadata": {
  "kernelspec": {
   "display_name": "Python 3 (ipykernel)",
   "language": "python",
   "name": "python3"
  },
  "language_info": {
   "codemirror_mode": {
    "name": "ipython",
    "version": 3
   },
   "file_extension": ".py",
   "mimetype": "text/x-python",
   "name": "python",
   "nbconvert_exporter": "python",
   "pygments_lexer": "ipython3",
   "version": "3.7.16"
  }
 },
 "nbformat": 4,
 "nbformat_minor": 5
}
