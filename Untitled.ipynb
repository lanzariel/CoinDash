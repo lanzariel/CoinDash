{
 "cells": [
  {
   "cell_type": "code",
   "execution_count": 1,
   "id": "9efec751",
   "metadata": {},
   "outputs": [],
   "source": [
    "import pandas as pd"
   ]
  },
  {
   "cell_type": "code",
   "execution_count": 3,
   "id": "3ce77815",
   "metadata": {},
   "outputs": [],
   "source": [
    "import numpy as np\n",
    "from scipy.stats import binom"
   ]
  },
  {
   "cell_type": "code",
   "execution_count": 30,
   "id": "e8a792f0",
   "metadata": {},
   "outputs": [],
   "source": [
    "ncs = 10\n",
    "p=0.55\n",
    "s=0.1"
   ]
  },
  {
   "cell_type": "code",
   "execution_count": 31,
   "id": "f63f331d",
   "metadata": {},
   "outputs": [],
   "source": [
    "rv = binom(ncs,p)"
   ]
  },
  {
   "cell_type": "code",
   "execution_count": 33,
   "id": "52021011",
   "metadata": {},
   "outputs": [
    {
     "name": "stdout",
     "output_type": "stream",
     "text": [
      "0.0 0.0003405062891601559\n",
      "0.19999999999999996 0.004161743534179681\n",
      "0.3999999999999999 0.022889589437988224\n",
      "0.6 0.07460310631640628\n",
      "0.8 0.15956775517675784\n",
      "1.0 0.23403270759257822\n",
      "1.2 0.23836664662207052\n",
      "1.4 0.16647829287890628\n",
      "1.6 0.0763025509028321\n",
      "1.8 0.020724149627929695\n",
      "2.0 0.0025329516211914085\n"
     ]
    }
   ],
   "source": [
    "for cur_x in range(ncs+1):\n",
    "    cur_prob = rv.pmf(cur_x)\n",
    "    print(1+s*(cur_x*2-ncs), cur_prob)"
   ]
  },
  {
   "cell_type": "code",
   "execution_count": null,
   "id": "20c65d16",
   "metadata": {},
   "outputs": [],
   "source": []
  }
 ],
 "metadata": {
  "kernelspec": {
   "display_name": "Python 3 (ipykernel)",
   "language": "python",
   "name": "python3"
  },
  "language_info": {
   "codemirror_mode": {
    "name": "ipython",
    "version": 3
   },
   "file_extension": ".py",
   "mimetype": "text/x-python",
   "name": "python",
   "nbconvert_exporter": "python",
   "pygments_lexer": "ipython3",
   "version": "3.7.16"
  }
 },
 "nbformat": 4,
 "nbformat_minor": 5
}
